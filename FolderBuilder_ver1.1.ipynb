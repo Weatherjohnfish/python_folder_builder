{
 "cells": [
  {
   "cell_type": "code",
   "execution_count": 1,
   "id": "cf3129ef",
   "metadata": {},
   "outputs": [],
   "source": [
    "import os\n",
    "import webbrowser\n",
    "import tkinter as tk\n",
    "from tkinter import filedialog\n",
    "from tkinter import Tk, filedialog\n",
    "\n",
    "def create_folder():\n",
    "    number = int(number_of_folder_input.get())\n",
    "    number += 1\n",
    "    name = name_of_folder_input.get()\n",
    "    root = Tk() # pointing root to Tk() to use it as Tk() in program.\n",
    "    root.withdraw() # Hides small tkinter window.\n",
    "    root.attributes('-topmost', True) # Opened windows will be active. above all windows despite of selection.\n",
    "\n",
    "    destination_path = filedialog.askdirectory(title=\"select folder\")\n",
    "    for folder in range(1,number):\n",
    "        folder_number=(f\"%s{folder}\")%(name)\n",
    "        try:\n",
    "            os.mkdir(os.path.join(destination_path,folder_number))\n",
    "            print(f\"Creating...Folder{folder_number}\")\n",
    "        except FileExistsError:\n",
    "            print(f\"{folder_number} Exist\")\n",
    "    webbrowser.open(destination_path)\n",
    "    result_label.configure(text = \"Complete creating folder\")\n",
    "    \n",
    "\n",
    "window = tk.Tk()\n",
    "window.title(\"Create Folder\")\n",
    "window.minsize(width = 100,height = 100)\n",
    "\n",
    "#choose number of folder\n",
    "title_label = tk.Label(master=window, text = \"how many folder do you want to create?\")\n",
    "title_label.pack()\n",
    "number_of_folder_input = tk.Entry(master=window)\n",
    "number_of_folder_input.pack()\n",
    "\n",
    "#name of folder\n",
    "title_label = tk.Label(master=window, text = \"what is your folder name? \"+\"(Optional)\")\n",
    "title_label.pack()\n",
    "name_of_folder_input = tk.Entry(master=window)#\n",
    "name_of_folder_input.pack()\n",
    "\n",
    "#choose destination\n",
    "title_label = tk.Label(master=window, text = \"Where do you want to create folder ?\")\n",
    "title_label.pack()\n",
    "choose_destination_button = tk.Button(master=window,text=\"choose destination\",command=create_folder)\n",
    "choose_destination_button.pack()\n",
    "\n",
    "#checking\n",
    "result_label = tk.Label(master=window)\n",
    "result_label.pack()\n",
    "\n",
    "window.mainloop()\n",
    "        \n",
    "        \n",
    "    \n",
    "   "
   ]
  },
  {
   "cell_type": "code",
   "execution_count": null,
   "id": "ca4e5129",
   "metadata": {},
   "outputs": [],
   "source": []
  }
 ],
 "metadata": {
  "kernelspec": {
   "display_name": "Python 3 (ipykernel)",
   "language": "python",
   "name": "python3"
  },
  "language_info": {
   "codemirror_mode": {
    "name": "ipython",
    "version": 3
   },
   "file_extension": ".py",
   "mimetype": "text/x-python",
   "name": "python",
   "nbconvert_exporter": "python",
   "pygments_lexer": "ipython3",
   "version": "3.9.7"
  }
 },
 "nbformat": 4,
 "nbformat_minor": 5
}
